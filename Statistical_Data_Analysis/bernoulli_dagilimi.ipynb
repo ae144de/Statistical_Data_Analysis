{
 "cells": [
  {
   "cell_type": "code",
   "execution_count": 1,
   "metadata": {},
   "outputs": [
    {
     "data": {
      "text/plain": [
       "array([1, 0, 1, 1, 1, 1, 0, 0, 1])"
      ]
     },
     "execution_count": 1,
     "metadata": {},
     "output_type": "execute_result"
    }
   ],
   "source": [
    "from scipy.stats import bernoulli\n",
    "\n",
    "veri_ber = bernoulli.rvs(size = 10000,p = 0.5)\n",
    "#örnek bernoulli dağılımı\n",
    "veri_ber[1:10]"
   ]
  },
  {
   "cell_type": "code",
   "execution_count": 3,
   "metadata": {},
   "outputs": [
    {
     "data": {
      "image/png": "[encoded data removed]",
      "text/plain": [
       "<Figure size 432x288 with 1 Axes>"
      ]
     },
     "metadata": {
      "needs_background": "light"
     },
     "output_type": "display_data"
    }
   ],
   "source": [
    "import seaborn as sns\n",
    "\n",
    "#semicolon kullanmadığın sürece plot gözükmeyecek.Evet! semicolon python içinde legal bir karaktermiş!\n",
    "ax = sns.distplot(veri_ber,\n",
    "                  kde = False,\n",
    "                  color = \"orange\",\n",
    "                  hist_kws = {\"linewidth\":15,\"alpha\":1});\n",
    "\n",
    "ax.set(xlabel = \"bernoulli\",ylabel = \"Frekans\");"
   ]
  },
  {
   "cell_type": "code",
   "execution_count": 5,
   "metadata": {},
   "outputs": [
    {
     "data": {
      "text/plain": [
       "array([0, 1, 0, 0, 0, 0, 0, 1, 1, 0])"
      ]
     },
     "execution_count": 5,
     "metadata": {},
     "output_type": "execute_result"
    }
   ],
   "source": [
    "import numpy as np\n",
    "rng = np.random.RandomState(123) #???\n",
    "yazi_tura = rng.randint(0,2,size=1000)\n",
    "yazi_tura[0:10]"
   ]
  },
  {
   "cell_type": "code",
   "execution_count": 6,
   "metadata": {},
   "outputs": [],
   "source": [
    "yazilar = np.sum(yazi_tura)\n",
    "turalar = yazi_tura.shape[0] - yazilar #yazi_tura.shape[0] toplam satır sayısını veriyor."
   ]
  },
  {
   "cell_type": "code",
   "execution_count": 7,
   "metadata": {},
   "outputs": [
    {
     "data": {
      "text/plain": [
       "520"
      ]
     },
     "execution_count": 7,
     "metadata": {},
     "output_type": "execute_result"
    }
   ],
   "source": [
    "yazilar"
   ]
  },
  {
   "cell_type": "code",
   "execution_count": 8,
   "metadata": {},
   "outputs": [
    {
     "data": {
      "text/plain": [
       "480"
      ]
     },
     "execution_count": 8,
     "metadata": {},
     "output_type": "execute_result"
    }
   ],
   "source": [
    "turalar"
   ]
  },
  {
   "cell_type": "code",
   "execution_count": 9,
   "metadata": {},
   "outputs": [
    {
     "data": {
      "text/plain": [
       "0.52"
      ]
     },
     "execution_count": 9,
     "metadata": {},
     "output_type": "execute_result"
    }
   ],
   "source": [
    "#yazı gelme olasılığı\n",
    "520 / (520 + 480)"
   ]
  },
  {
   "cell_type": "code",
   "execution_count": 11,
   "metadata": {},
   "outputs": [
    {
     "name": "stdout",
     "output_type": "stream",
     "text": [
      "Yazı olasılıkları: 30.00\n",
      "Yazı olasılıkları: 48.00\n",
      "Yazı olasılıkları: 53.60\n",
      "Yazı olasılıkları: 49.53\n",
      "Yazı olasılıkları: 49.80\n",
      "Yazı olasılıkları: 50.03\n",
      "Yazı olasılıkları: 50.03\n"
     ]
    }
   ],
   "source": [
    "### Büyük sayılar yasası\n",
    "#tanım : Bir rasgele değişkenin uzun vadeli kararlılığını tanımlar\n",
    "#9.kod bloğunda görüldüğü gibi 1000 deneyde 520 defa yazi gelmiştir\n",
    "#\n",
    "rng = np.random.RandomState(123)\n",
    "\n",
    "for i in [1,2,3,4,5,6,7]:\n",
    "    deney_sayisi = 10**i\n",
    "    yazi_turalar = rng.randint(0,2,size=deney_sayisi)\n",
    "    yazi_olasiliklari = np.mean(yazi_turalar)\n",
    "    print(\"Yazı olasılıkları: %.2f\" %(yazi_olasiliklari * 100))\n",
    "    "
   ]
  },
  {
   "cell_type": "code",
   "execution_count": null,
   "metadata": {},
   "outputs": [],
   "source": []
  }
 ],
 "metadata": {
  "kernelspec": {
   "display_name": "Python 3",
   "language": "python",
   "name": "python3"
  },
  "language_info": {
   "codemirror_mode": {
    "name": "ipython",
    "version": 3
   },
   "file_extension": ".py",
   "mimetype": "text/x-python",
   "name": "python",
   "nbconvert_exporter": "python",
   "pygments_lexer": "ipython3",
   "version": "3.7.3"
  }
 },
 "nbformat": 4,
 "nbformat_minor": 2
}
